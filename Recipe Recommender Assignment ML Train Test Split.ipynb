{
  "cells": [
    {
      "cell_type": "markdown",
      "metadata": {
        "id": "htey1FpQcn3X"
      },
      "source": [
        "## Setup"
      ]
    },
    {
      "cell_type": "code",
      "execution_count": 1,
      "metadata": {
        "colab": {
          "base_uri": "https://localhost:8080/"
        },
        "outputId": "b0d44eb5-e042-4794-d8d6-34ba55772f1b",
        "id": "NRiDLBE1l-Dw"
      },
      "outputs": [
        {
          "output_type": "stream",
          "name": "stdout",
          "text": [
            "Mounted at /content/drive\n"
          ]
        }
      ],
      "source": [
        "import os\n",
        "# give googe drive the required permission\n",
        "from google.colab import drive\n",
        "drive.mount('/content/drive')"
      ]
    },
    {
      "cell_type": "code",
      "execution_count": 3,
      "metadata": {
        "colab": {
          "base_uri": "https://localhost:8080/",
          "height": 36
        },
        "outputId": "59f50de9-78d4-4b1b-d3ff-343f09081c2a",
        "id": "BwzVR59Ll-Dw"
      },
      "outputs": [
        {
          "output_type": "execute_result",
          "data": {
            "text/plain": [
              "'/content/drive/MyDrive/FoodRecSys'"
            ],
            "application/vnd.google.colaboratory.intrinsic+json": {
              "type": "string"
            }
          },
          "metadata": {},
          "execution_count": 3
        }
      ],
      "source": [
        "# Create a folder in your drive and add the name of that folder here. \n",
        "# For example, for the code below to run correctly, you need to have a folder named FoodRecSys in 'My Drive'.  \n",
        "# The said folder will be your home directory for the rest of the project. \n",
        "# You will be able to save and read data from the folder. \n",
        "\n",
        "os.chdir(\"/content/drive/MyDrive/FoodRecSys/\")\n",
        "os.getcwd()"
      ]
    },
    {
      "cell_type": "code",
      "execution_count": 6,
      "metadata": {
        "colab": {
          "base_uri": "https://localhost:8080/",
          "height": 36
        },
        "id": "BpUqlBP89U8I",
        "outputId": "409d4cee-24ab-4a7c-ce0f-2502ba48fd58"
      },
      "outputs": [
        {
          "output_type": "execute_result",
          "data": {
            "text/plain": [
              "'/content/drive/MyDrive/food_recsys_project/Code Files'"
            ],
            "application/vnd.google.colaboratory.intrinsic+json": {
              "type": "string"
            }
          },
          "metadata": {},
          "execution_count": 6
        }
      ],
      "source": [
        "os.chdir(\"/content/drive/MyDrive/food_recsys_project/Code Files/\")\n",
        "os.getcwd()"
      ]
    },
    {
      "cell_type": "code",
      "execution_count": 7,
      "metadata": {
        "id": "zFl1W65u9U2q",
        "colab": {
          "base_uri": "https://localhost:8080/"
        },
        "outputId": "97cccdab-43e5-40d5-b498-5ef66f928ce5"
      },
      "outputs": [
        {
          "output_type": "stream",
          "name": "stdout",
          "text": [
            "Looking in indexes: https://pypi.org/simple, https://us-python.pkg.dev/colab-wheels/public/simple/\n",
            "Collecting pyspark==3.1.2\n",
            "  Downloading pyspark-3.1.2.tar.gz (212.4 MB)\n",
            "\u001b[2K     \u001b[90m━━━━━━━━━━━━━━━━━━━━━━━━━━━━━━━━━━━━━━━\u001b[0m \u001b[32m212.4/212.4 MB\u001b[0m \u001b[31m5.9 MB/s\u001b[0m eta \u001b[36m0:00:00\u001b[0m\n",
            "\u001b[?25h  Preparing metadata (setup.py) ... \u001b[?25l\u001b[?25hdone\n",
            "Collecting py4j==0.10.9\n",
            "  Downloading py4j-0.10.9-py2.py3-none-any.whl (198 kB)\n",
            "\u001b[2K     \u001b[90m━━━━━━━━━━━━━━━━━━━━━━━━━━━━━━━━━━━━━━\u001b[0m \u001b[32m198.6/198.6 KB\u001b[0m \u001b[31m15.2 MB/s\u001b[0m eta \u001b[36m0:00:00\u001b[0m\n",
            "\u001b[?25hBuilding wheels for collected packages: pyspark\n",
            "  Building wheel for pyspark (setup.py) ... \u001b[?25l\u001b[?25hdone\n",
            "  Created wheel for pyspark: filename=pyspark-3.1.2-py2.py3-none-any.whl size=212880770 sha256=d9ab7aef8c892ebb70d805c86d35623ffc7047d1c84c9b78ff421ea64ca0d045\n",
            "  Stored in directory: /root/.cache/pip/wheels/11/17/0b/53e7d10fe66ca7647d391cdba323fcf5b2f9dfcb7ebad87aa7\n",
            "Successfully built pyspark\n",
            "Installing collected packages: py4j, pyspark\n",
            "Successfully installed py4j-0.10.9 pyspark-3.1.2\n"
          ]
        }
      ],
      "source": [
        "try:\n",
        "  import pyspark \n",
        "except:\n",
        "  !pip install pyspark==3.1.2\n",
        "  import pyspark"
      ]
    },
    {
      "cell_type": "code",
      "source": [
        "from pyspark.sql import SparkSession\n",
        "from pyspark.context import SparkContext"
      ],
      "metadata": {
        "id": "oBvA-zmx2_vE"
      },
      "execution_count": 8,
      "outputs": []
    },
    {
      "cell_type": "code",
      "execution_count": 9,
      "metadata": {
        "id": "H07v5FBc9fW9"
      },
      "outputs": [],
      "source": [
        "spark = SparkSession.builder.master(\"local\").config('spark.ui.port', '4050').getOrCreate()"
      ]
    },
    {
      "cell_type": "code",
      "execution_count": 10,
      "metadata": {
        "colab": {
          "base_uri": "https://localhost:8080/",
          "height": 219
        },
        "id": "eqeHc0B_9nOG",
        "outputId": "c2546022-a22c-423e-ae90-3f218f7d0586"
      },
      "outputs": [
        {
          "output_type": "execute_result",
          "data": {
            "text/plain": [
              "<pyspark.sql.session.SparkSession at 0x7f0abec35340>"
            ],
            "text/html": [
              "\n",
              "            <div>\n",
              "                <p><b>SparkSession - in-memory</b></p>\n",
              "                \n",
              "        <div>\n",
              "            <p><b>SparkContext</b></p>\n",
              "\n",
              "            <p><a href=\"http://daa9e4da329d:4050\">Spark UI</a></p>\n",
              "\n",
              "            <dl>\n",
              "              <dt>Version</dt>\n",
              "                <dd><code>v3.1.2</code></dd>\n",
              "              <dt>Master</dt>\n",
              "                <dd><code>local</code></dd>\n",
              "              <dt>AppName</dt>\n",
              "                <dd><code>pyspark-shell</code></dd>\n",
              "            </dl>\n",
              "        </div>\n",
              "        \n",
              "            </div>\n",
              "        "
            ]
          },
          "metadata": {},
          "execution_count": 10
        }
      ],
      "source": [
        "spark"
      ]
    },
    {
      "cell_type": "markdown",
      "metadata": {
        "id": "OuQIGExwctpy"
      },
      "source": [
        "## Imports"
      ]
    },
    {
      "cell_type": "code",
      "execution_count": 11,
      "metadata": {
        "id": "QTo-V_Tt9eoN"
      },
      "outputs": [],
      "source": [
        "import pandas as pd \n",
        "import numpy as np\n",
        "\n",
        "from pyspark.sql import functions as F\n",
        "# Import for typecasting columns\n",
        "from pyspark.sql.types import IntegerType,BooleanType,DateType,FloatType,StringType, ArrayType"
      ]
    },
    {
      "cell_type": "markdown",
      "metadata": {
        "id": "lJbriFKH9AwM"
      },
      "source": [
        "## Read the data "
      ]
    },
    {
      "cell_type": "code",
      "execution_count": 14,
      "metadata": {
        "id": "6fBd-ymZ85_e"
      },
      "outputs": [],
      "source": [
        "raw_ratings_df = (spark.read.csv(\"raw_ratings_small.csv\", # modify the path to read the data\n",
        "                                 header=True, \n",
        "                                 inferSchema= True))"
      ]
    },
    {
      "cell_type": "code",
      "execution_count": 16,
      "metadata": {
        "id": "dXuL1Sq09Akr"
      },
      "outputs": [],
      "source": [
        "raw_recipes_df = spark.read.csv(\"raw_recipies_small.csv\", # modify the path to read the data\n",
        "                                header=True, \n",
        "                                inferSchema=True)"
      ]
    },
    {
      "cell_type": "code",
      "source": [
        "assert (raw_recipes_df.count(), len(raw_recipes_df.columns)) == (20340, 13)\n",
        "assert (raw_ratings_df.count(), len(raw_ratings_df.columns)) == (93357, 5)"
      ],
      "metadata": {
        "id": "Mkaj1BabtAg1"
      },
      "execution_count": 17,
      "outputs": []
    },
    {
      "cell_type": "markdown",
      "metadata": {
        "id": "lILWFlP-9tKr"
      },
      "source": [
        "#### Decide a split date based on the ratings dataframe. "
      ]
    },
    {
      "cell_type": "code",
      "execution_count": 18,
      "metadata": {
        "id": "COU5Qg1A-CT7"
      },
      "outputs": [],
      "source": [
        "# Find the number of data points in the interaction dataset. \n",
        "# You can use the count() method. \n",
        "# The output must be an integer.\n",
        "\n",
        "num_review_int = raw_ratings_df.count()"
      ]
    },
    {
      "cell_type": "markdown",
      "metadata": {
        "id": "Ea0ZeHC0JXjy"
      },
      "source": [
        "#### Task 01 - Train Test Split \n",
        "\n",
        "Divide the data into train and test based on the 80 - 20 split using the approach discussed. You will have to save the data in a parquet file. "
      ]
    },
    {
      "cell_type": "code",
      "execution_count": 19,
      "metadata": {
        "id": "gz8RpPOo-CSO"
      },
      "outputs": [],
      "source": [
        "test_num_reviews_int = round(num_review_int *0.2)"
      ]
    },
    {
      "cell_type": "code",
      "execution_count": 20,
      "metadata": {
        "id": "1uBP9W-t-CPm"
      },
      "outputs": [],
      "source": [
        "# Sort the interactions dataset in descending order of review date. \n",
        "# Extract ```test_num_reviews_int``` most recent reviews. \n",
        "\n",
        "temp_ratings_df = (raw_ratings_df.sort(\"review_date\", ascending=False)\n",
        "                                 .limit(test_num_reviews_int)\n",
        "                  )"
      ]
    },
    {
      "cell_type": "code",
      "source": [
        "assert temp_ratings_df.count()  == 18671\n",
        "assert raw_recipes_df.collect()[11][4] <= raw_recipes_df.collect()[10][4] "
      ],
      "metadata": {
        "id": "TxxjUoxvtJta"
      },
      "execution_count": 21,
      "outputs": []
    },
    {
      "cell_type": "code",
      "execution_count": 22,
      "metadata": {
        "colab": {
          "base_uri": "https://localhost:8080/",
          "height": 36
        },
        "id": "vC5khu2X-CIj",
        "outputId": "51662ccc-14fe-41a2-c483-8065c3ab4366"
      },
      "outputs": [
        {
          "output_type": "execute_result",
          "data": {
            "text/plain": [
              "'2011-07-17'"
            ],
            "application/vnd.google.colaboratory.intrinsic+json": {
              "type": "string"
            }
          },
          "metadata": {},
          "execution_count": 22
        }
      ],
      "source": [
        "temp_ratings_df.collect()[-1][4]"
      ]
    },
    {
      "cell_type": "markdown",
      "metadata": {
        "id": "ZTKyBLjFJTmr"
      },
      "source": [
        "Split the data into two parts before and after 2011-07-17. \n",
        "\n",
        "- All reviews in the ratings data after 2011-07-17 will not exsist in the training set. \n",
        "- For all future predictions the date will be set at 2011-07-18.   "
      ]
    },
    {
      "cell_type": "code",
      "source": [
        "raw_ratings_df.columns\n"
      ],
      "metadata": {
        "id": "tBW-0cf4OyVT",
        "outputId": "ce0916cd-93f0-4700-a1df-63af0ef2192b",
        "colab": {
          "base_uri": "https://localhost:8080/"
        }
      },
      "execution_count": 23,
      "outputs": [
        {
          "output_type": "execute_result",
          "data": {
            "text/plain": [
              "['user_id', 'recipe_id', 'rating', 'review', 'review_date']"
            ]
          },
          "metadata": {},
          "execution_count": 23
        }
      ]
    },
    {
      "cell_type": "code",
      "source": [
        "raw_recipes_df.columns"
      ],
      "metadata": {
        "id": "VZQrrbyeO4Bm",
        "outputId": "f0964bc3-2ed9-4b58-f7a6-e6574e8a4d87",
        "colab": {
          "base_uri": "https://localhost:8080/"
        }
      },
      "execution_count": 24,
      "outputs": [
        {
          "output_type": "execute_result",
          "data": {
            "text/plain": [
              "['name',\n",
              " 'id',\n",
              " 'minutes',\n",
              " 'contributor_id',\n",
              " 'submitted',\n",
              " 'tags',\n",
              " 'nutrition',\n",
              " 'n_steps',\n",
              " 'steps',\n",
              " 'description',\n",
              " 'ingredients',\n",
              " 'n_ingredients',\n",
              " 'year_of_review']"
            ]
          },
          "metadata": {},
          "execution_count": 24
        }
      ]
    },
    {
      "cell_type": "code",
      "execution_count": 25,
      "metadata": {
        "id": "cCuNwQMEhBPi"
      },
      "outputs": [],
      "source": [
        "# Join raw_recipes and raw_ratings\n",
        "# Use recipe_id as the key to join these dataframes \n",
        "# The resulting dataframe must have all rows from the raw_ratings dataframe. \n",
        "\n",
        "# interaction_level_df = raw_ratings_df.join(\n",
        "#     raw_recipes_df.withColumnRenamed(\"id\", \"recipe_id\"), # dataframe 2\n",
        "#     on='recipe_id', # key to join\n",
        "#     how='left' # how to join\n",
        "# )\n",
        "interaction_level_df = raw_ratings_df.join(\n",
        "    raw_recipes_df,\n",
        "    raw_recipes_df.id == raw_ratings_df.recipe_id, # key to join\n",
        "    how='left' # how to join\n",
        ")\n"
      ]
    },
    {
      "cell_type": "code",
      "execution_count": 26,
      "metadata": {
        "id": "orclWiSCKkw7"
      },
      "outputs": [],
      "source": [
        "# Use the filter command to separate the datasets. \n",
        "# All interactions which were rated BEFORE '2011-07-17' will be train data. \n",
        "\n",
        "train_interaction_level_df  = (interaction_level_df.filter(  \n",
        "                                             # add code to filter\n",
        "                                             interaction_level_df.review_date < '2011-07-17' \n",
        "                                           ))"
      ]
    },
    {
      "cell_type": "code",
      "execution_count": 27,
      "metadata": {
        "id": "sdyQsB2tiE04"
      },
      "outputs": [],
      "source": [
        "# Use the filter command to separate the datasets. \n",
        "# All interactions which were rated ON OR AFTER '2011-07-17' will be test data. \n",
        "\n",
        "test_interaction_level_all_recipies_df  = (interaction_level_df.filter(  \n",
        "                                             # add code to filter \n",
        "                                             interaction_level_df.review_date >= '2011-07-17' \n",
        "                                           ))"
      ]
    },
    {
      "cell_type": "code",
      "source": [
        "assert (test_interaction_level_all_recipies_df.count(), len(test_interaction_level_all_recipies_df.columns)) == (18684, 18)\n",
        "assert (train_interaction_level_df.count(), len(train_interaction_level_df.columns)) == (74673, 18)"
      ],
      "metadata": {
        "id": "VTjbMPoCtV2u"
      },
      "execution_count": 28,
      "outputs": []
    },
    {
      "cell_type": "code",
      "execution_count": 29,
      "metadata": {
        "id": "hPnT-UZ5IwDa"
      },
      "outputs": [],
      "source": [
        "# create data files for modeling \n",
        "\n",
        "(train_interaction_level_df.coalesce(1)\n",
        "                           .write.mode('overwrite')\n",
        "                           .parquet('train_interaction_level_df.parquet'))  # change the file name and file path\n",
        "\n",
        "(test_interaction_level_all_recipies_df.coalesce(1)\n",
        "                                       .write.mode('overwrite')\n",
        "                                       .parquet('test_interaction_level_df.parquet'))  # change the file name and file path"
      ]
    },
    {
      "cell_type": "code",
      "source": [],
      "metadata": {
        "id": "ICbhTwWPd9H9"
      },
      "execution_count": null,
      "outputs": []
    }
  ],
  "metadata": {
    "colab": {
      "provenance": []
    },
    "kernelspec": {
      "display_name": "Python 3",
      "name": "python3"
    },
    "language_info": {
      "name": "python"
    }
  },
  "nbformat": 4,
  "nbformat_minor": 0
}